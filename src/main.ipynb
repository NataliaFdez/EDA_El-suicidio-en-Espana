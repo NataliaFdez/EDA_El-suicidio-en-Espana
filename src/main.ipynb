{
 "cells": [
  {
   "cell_type": "markdown",
   "metadata": {},
   "source": [
    "# **MI PRIMER E.D.A: EL SUICIDIO EN ESPAÑA**\n",
    "\n",
    ">Natalia Fernández García\n",
    "\n",
    ">Bootcamp: Data Science en The Bridge\n",
    "\n",
    ">17/01/2022"
   ]
  },
  {
   "cell_type": "markdown",
   "metadata": {},
   "source": [
    "### **LIBRERÍAS:**"
   ]
  },
  {
   "cell_type": "code",
   "execution_count": 42,
   "metadata": {},
   "outputs": [],
   "source": [
    "import pandas as pd\n",
    "import seaborn as sns\n",
    "%matplotlib inline\n",
    "from matplotlib import pyplot as plt\n",
    "from utils import funciones"
   ]
  },
  {
   "cell_type": "markdown",
   "metadata": {},
   "source": [
    "---------------------"
   ]
  },
  {
   "cell_type": "markdown",
   "metadata": {},
   "source": [
    "### **HIPÓTESIS:**"
   ]
  },
  {
   "cell_type": "markdown",
   "metadata": {},
   "source": [
    "A mayor inestabilidad laboral y menor PIB per capita, el número de suicidios aumenta."
   ]
  },
  {
   "cell_type": "markdown",
   "metadata": {},
   "source": [
    "-------------------------------------------"
   ]
  },
  {
   "cell_type": "markdown",
   "metadata": {},
   "source": [
    "### **ARCHIVOS NECESARIOS:**"
   ]
  },
  {
   "cell_type": "markdown",
   "metadata": {},
   "source": [
    "Enlaces:\n",
    "- [Suicidios por distintos grupos de edad, sexo y comunidad autonoma 2000-2020](https://www.ine.es/jaxiT3/Tabla.htm?t=10803)\n",
    "\n",
    "- [PIB y PIB per capita 2000-2020](https://www.ine.es/dyngs/INEbase/es/operacion.htm?c=Estadistica_C&cid=1254736167628&menu=resultados&idp=1254735576581)\n",
    "\n",
    "- [Tasas de paro por distintos grupos de edad, sexo y comunidad autonoma 2000-2001](https://www.ine.es/jaxi/Tabla.htm?path=/t22/e308/meto_05/meto_05_bis/pae/px/l0/&file=03004.px&L=0)\n",
    "\n",
    "- [Tasas de paro por distintos grupos de edad, sexo y comunidad autonoma 2002-2020](https://www.ine.es/jaxiT3/Tabla.htm?t=4247)"
   ]
  },
  {
   "cell_type": "markdown",
   "metadata": {},
   "source": [
    "Archivos descargados e importados:"
   ]
  },
  {
   "cell_type": "code",
   "execution_count": 43,
   "metadata": {},
   "outputs": [],
   "source": [
    "CA_PERIODO_SUICIDIOS = pd.read_excel(r'./data/tasas.xlsx', sheet_name = 'CA_PERIODO_SUICIDIOS')\n",
    "CA_PERIODO_SUICIDIOSHOMBRES = pd.read_excel(r'./data/tasas.xlsx', sheet_name = 'CA_PERIODO_SUICIDIOSHOMBRES')\n",
    "CA_PERIODO_SUICIDIOSMUJERES = pd.read_excel(r'./data/tasas.xlsx', sheet_name = 'CA_PERIODO_SUICIDIOSMUJERES')\n",
    "\n",
    "CA_PERIODO_DESEMPLEO = pd.read_excel(r'./data/tasas.xlsx', sheet_name = 'CA_PERIODO_DESEMPLEO')\n",
    "CA_PERIODO_DESEMPLEOHOMBRES = pd.read_excel(r'./data/tasas.xlsx', sheet_name = 'CA_PERIODO_DESEMPLEOHOMBRES')\n",
    "CA_PERIODO_DESEMPLEOMUJERES = pd.read_excel(r'./data/tasas.xlsx', sheet_name = 'CA_PERIODO_DESEMPLEOMUJERES')\n",
    "\n",
    "CA_PERIODO_PIB = pd.read_excel(r'./data/tasas.xlsx', sheet_name = 'CA_PERIODO_PIB')\n",
    "\n",
    "EDAD_PERIODO_SUICIDIOS = pd.read_excel(r'./data/tasas.xlsx', sheet_name = 'EDAD_PERIODO_SUICIDIOS')\n",
    "EDAD_PERIODO_SUICIDIOSHOMBRES = pd.read_excel(r'./data/tasas.xlsx', sheet_name = 'EDAD_PERIODO_SUICIDIOSHOMBRES')\n",
    "EDAD_PERIODO_SUICIDIOSMUJERES = pd.read_excel(r'./data/tasas.xlsx', sheet_name = 'EDAD_PERIODO_SUICIDIOSMUJERES')\n",
    "\n",
    "EDAD_PERIODO_DESEMPLEO = pd.read_excel(r'./data/tasas.xlsx', sheet_name = 'EDAD_PERIODO_DESEMPLEO')\n",
    "EDAD_PERIODO_DESEMPLEOHOMBRES = pd.read_excel(r'./data/tasas.xlsx', sheet_name = 'EDAD_PERIODO_DESEMPLEOHOMBRES')\n",
    "EDAD_PERIODO_DESEMPLEOMUJERES = pd.read_excel(r'./data/tasas.xlsx', sheet_name = 'EDAD_PERIODO_DESEMPLEOMUJERES')\n",
    "\n",
    "PERIODO_SUICIDIOS = pd.read_excel(r'./data/tasas.xlsx', sheet_name = 'PERIODO_SUICIDIOS')\n",
    "PERIODO_SUICIDIOSHOMBRES = pd.read_excel(r'./data/tasas.xlsx', sheet_name = 'PERIODO_SUICIDIOSHOMBRES')\n",
    "PERIODO_SUICIDIOSMUJERES = pd.read_excel(r'./data/tasas.xlsx', sheet_name = 'PERIODO_SUICIDIOSMUJERES')\n",
    "\n",
    "PERIODO_DESEMPLEO = pd.read_excel(r'./data/tasas.xlsx', sheet_name = 'PERIODO_DESEMPLEO')\n",
    "PERIODO_DESEMPLEOHOMBRES = pd.read_excel(r'./data/tasas.xlsx', sheet_name = 'PERIODO_DESEMPLEOHOMBRES')\n",
    "PERIODO_DESEMPLEOMUJERES = pd.read_excel(r'./data/tasas.xlsx', sheet_name = 'PERIODO_DESEMPLEOMUJERES')\n",
    "\n",
    "PERIODO_PIB = pd.read_excel(r'./data/tasas.xlsx', sheet_name = 'PERIODO_PIB')"
   ]
  },
  {
   "cell_type": "code",
   "execution_count": 44,
   "metadata": {},
   "outputs": [
    {
     "data": {
      "text/html": [
       "<div>\n",
       "<style scoped>\n",
       "    .dataframe tbody tr th:only-of-type {\n",
       "        vertical-align: middle;\n",
       "    }\n",
       "\n",
       "    .dataframe tbody tr th {\n",
       "        vertical-align: top;\n",
       "    }\n",
       "\n",
       "    .dataframe thead th {\n",
       "        text-align: right;\n",
       "    }\n",
       "</style>\n",
       "<table border=\"1\" class=\"dataframe\">\n",
       "  <thead>\n",
       "    <tr style=\"text-align: right;\">\n",
       "      <th></th>\n",
       "      <th>TRIMESTRE</th>\n",
       "      <th>DESEMPLEO HOMBRES</th>\n",
       "    </tr>\n",
       "  </thead>\n",
       "  <tbody>\n",
       "    <tr>\n",
       "      <th>0</th>\n",
       "      <td>2020T4</td>\n",
       "      <td>14.17</td>\n",
       "    </tr>\n",
       "    <tr>\n",
       "      <th>1</th>\n",
       "      <td>2020T3</td>\n",
       "      <td>14.39</td>\n",
       "    </tr>\n",
       "    <tr>\n",
       "      <th>2</th>\n",
       "      <td>2020T2</td>\n",
       "      <td>14.13</td>\n",
       "    </tr>\n",
       "    <tr>\n",
       "      <th>3</th>\n",
       "      <td>2020T1</td>\n",
       "      <td>12.79</td>\n",
       "    </tr>\n",
       "    <tr>\n",
       "      <th>4</th>\n",
       "      <td>2019T4</td>\n",
       "      <td>12.23</td>\n",
       "    </tr>\n",
       "    <tr>\n",
       "      <th>...</th>\n",
       "      <td>...</td>\n",
       "      <td>...</td>\n",
       "    </tr>\n",
       "    <tr>\n",
       "      <th>79</th>\n",
       "      <td>2001T1</td>\n",
       "      <td>7.92</td>\n",
       "    </tr>\n",
       "    <tr>\n",
       "      <th>80</th>\n",
       "      <td>2000T4</td>\n",
       "      <td>9.29</td>\n",
       "    </tr>\n",
       "    <tr>\n",
       "      <th>81</th>\n",
       "      <td>2000T3</td>\n",
       "      <td>9.16</td>\n",
       "    </tr>\n",
       "    <tr>\n",
       "      <th>82</th>\n",
       "      <td>2000T2</td>\n",
       "      <td>9.45</td>\n",
       "    </tr>\n",
       "    <tr>\n",
       "      <th>83</th>\n",
       "      <td>2000T1</td>\n",
       "      <td>10.34</td>\n",
       "    </tr>\n",
       "  </tbody>\n",
       "</table>\n",
       "<p>84 rows × 2 columns</p>\n",
       "</div>"
      ],
      "text/plain": [
       "   TRIMESTRE  DESEMPLEO HOMBRES\n",
       "0     2020T4              14.17\n",
       "1     2020T3              14.39\n",
       "2     2020T2              14.13\n",
       "3     2020T1              12.79\n",
       "4     2019T4              12.23\n",
       "..       ...                ...\n",
       "79    2001T1               7.92\n",
       "80    2000T4               9.29\n",
       "81    2000T3               9.16\n",
       "82    2000T2               9.45\n",
       "83    2000T1              10.34\n",
       "\n",
       "[84 rows x 2 columns]"
      ]
     },
     "execution_count": 44,
     "metadata": {},
     "output_type": "execute_result"
    }
   ],
   "source": [
    "PERIODO_DESEMPLEOHOMBRES"
   ]
  },
  {
   "cell_type": "markdown",
   "metadata": {},
   "source": [
    "--------"
   ]
  },
  {
   "cell_type": "markdown",
   "metadata": {},
   "source": [
    "### **COMPROBACIÓN DE DATAFRAMES:**"
   ]
  },
  {
   "cell_type": "code",
   "execution_count": 45,
   "metadata": {},
   "outputs": [
    {
     "name": "stdout",
     "output_type": "stream",
     "text": [
      "<class 'pandas.core.frame.DataFrame'>\n",
      "RangeIndex: 21 entries, 0 to 20\n",
      "Data columns (total 2 columns):\n",
      " #   Column   Non-Null Count  Dtype\n",
      "---  ------   --------------  -----\n",
      " 0   PERIODO  21 non-null     int64\n",
      " 1   PIB      21 non-null     int64\n",
      "dtypes: int64(2)\n",
      "memory usage: 464.0 bytes\n"
     ]
    }
   ],
   "source": [
    "# Quitar # para ir comprobando:\n",
    "\n",
    "# CA_PERIODO_SUICIDIOS.info()\n",
    "# CA_PERIODO_SUICIDIOSHOMBRES.info()\n",
    "# CA_PERIODO_SUICIDIOSMUJERES.info()\n",
    "\n",
    "# CA_PERIODO_DESEMPLEO.info()\n",
    "# CA_PERIODO_DESEMPLEOHOMBRES.info()\n",
    "# CA_PERIODO_DESEMPLEOMUJERES.info()\n",
    "\n",
    "# CA_PERIODO_PIB.info()\n",
    "\n",
    "# EDAD_PERIODO_SUICIDIOS.info()\n",
    "# EDAD_PERIODO_SUICIDIOSHOMBRES.info()\n",
    "# EDAD_PERIODO_SUICIDIOSMUJERES.info()\n",
    "\n",
    "# EDAD_PERIODO_DESEMPLEO.info()\n",
    "# EDAD_PERIODO_DESEMPLEOHOMBRES.info()\n",
    "# EDAD_PERIODO_DESEMPLEOMUJERES.info()\n",
    "\n",
    "# PERIODO_SUICIDIOS.info()\n",
    "# PERIODO_SUICIDIOSHOMBRES.info()\n",
    "# PERIODO_SUICIDIOSMUJERES.info()\n",
    "\n",
    "# PERIODO_DESEMPLEO.info()\n",
    "# PERIODO_DESEMPLEOHOMBRES.info()\n",
    "# PERIODO_DESEMPLEOMUJERES.info()\n",
    "\n",
    "PERIODO_PIB.info()"
   ]
  },
  {
   "cell_type": "markdown",
   "metadata": {},
   "source": [
    "-----"
   ]
  },
  {
   "cell_type": "markdown",
   "metadata": {},
   "source": [
    "### **LIMPIEZA DE DATOS:**"
   ]
  },
  {
   "cell_type": "markdown",
   "metadata": {},
   "source": [
    "Procedemos a la limpieza de datos con:\n",
    "\n",
    "**Libreria PANDAS:** Previamente instalada e importada al principio de este notebook.\n",
    "    \n",
    "**Funciones personalizadas** para optimizar el proceso:\n",
    "    Instaladas en la ubicación \\src\\utils"
   ]
  },
  {
   "cell_type": "markdown",
   "metadata": {},
   "source": [
    "#### **Aplicando funciones persobalizadas**"
   ]
  },
  {
   "cell_type": "markdown",
   "metadata": {},
   "source": [
    " **1.Función:**\n",
    " > calcular_columna_anual(nombre_archivo)\n",
    "\n",
    "El dataframe tiene una columna con los trimestres del año. Para el análisis se necesita que esta información esté anual. Se procede a calcular la media anual de desempleo en la columna donde aparecen las fechas en trimestres.\n",
    "Usamos la función:\n"
   ]
  },
  {
   "cell_type": "code",
   "execution_count": 46,
   "metadata": {},
   "outputs": [
    {
     "data": {
      "text/html": [
       "<div>\n",
       "<style scoped>\n",
       "    .dataframe tbody tr th:only-of-type {\n",
       "        vertical-align: middle;\n",
       "    }\n",
       "\n",
       "    .dataframe tbody tr th {\n",
       "        vertical-align: top;\n",
       "    }\n",
       "\n",
       "    .dataframe thead th {\n",
       "        text-align: right;\n",
       "    }\n",
       "</style>\n",
       "<table border=\"1\" class=\"dataframe\">\n",
       "  <thead>\n",
       "    <tr style=\"text-align: right;\">\n",
       "      <th></th>\n",
       "      <th>CA</th>\n",
       "      <th>TRIMESTRE</th>\n",
       "      <th>DESEMPLEO</th>\n",
       "    </tr>\n",
       "  </thead>\n",
       "  <tbody>\n",
       "    <tr>\n",
       "      <th>0</th>\n",
       "      <td>01 Andalucía</td>\n",
       "      <td>2020T4</td>\n",
       "      <td>22.74</td>\n",
       "    </tr>\n",
       "    <tr>\n",
       "      <th>1</th>\n",
       "      <td>01 Andalucía</td>\n",
       "      <td>2020T3</td>\n",
       "      <td>23.80</td>\n",
       "    </tr>\n",
       "    <tr>\n",
       "      <th>2</th>\n",
       "      <td>01 Andalucía</td>\n",
       "      <td>2020T2</td>\n",
       "      <td>21.32</td>\n",
       "    </tr>\n",
       "  </tbody>\n",
       "</table>\n",
       "</div>"
      ],
      "text/plain": [
       "             CA TRIMESTRE  DESEMPLEO\n",
       "0  01 Andalucía    2020T4      22.74\n",
       "1  01 Andalucía    2020T3      23.80\n",
       "2  01 Andalucía    2020T2      21.32"
      ]
     },
     "execution_count": 46,
     "metadata": {},
     "output_type": "execute_result"
    }
   ],
   "source": [
    "# Aquí podemos ver la columna 'TRIMESTRE':\n",
    "CA_PERIODO_DESEMPLEO.head(3)"
   ]
  },
  {
   "cell_type": "code",
   "execution_count": 47,
   "metadata": {},
   "outputs": [],
   "source": [
    "# CA_PERIODO_DESEMPLEO"
   ]
  },
  {
   "cell_type": "code",
   "execution_count": 48,
   "metadata": {},
   "outputs": [
    {
     "data": {
      "text/html": [
       "<div>\n",
       "<style scoped>\n",
       "    .dataframe tbody tr th:only-of-type {\n",
       "        vertical-align: middle;\n",
       "    }\n",
       "\n",
       "    .dataframe tbody tr th {\n",
       "        vertical-align: top;\n",
       "    }\n",
       "\n",
       "    .dataframe thead th {\n",
       "        text-align: right;\n",
       "    }\n",
       "</style>\n",
       "<table border=\"1\" class=\"dataframe\">\n",
       "  <thead>\n",
       "    <tr style=\"text-align: right;\">\n",
       "      <th></th>\n",
       "      <th>CA</th>\n",
       "      <th>PERIODO</th>\n",
       "      <th>DESEMPLEO</th>\n",
       "    </tr>\n",
       "  </thead>\n",
       "  <tbody>\n",
       "    <tr>\n",
       "      <th>0</th>\n",
       "      <td>01 Andalucía</td>\n",
       "      <td>2000</td>\n",
       "      <td>51.47</td>\n",
       "    </tr>\n",
       "    <tr>\n",
       "      <th>1</th>\n",
       "      <td>01 Andalucía</td>\n",
       "      <td>2001</td>\n",
       "      <td>50.08</td>\n",
       "    </tr>\n",
       "    <tr>\n",
       "      <th>2</th>\n",
       "      <td>01 Andalucía</td>\n",
       "      <td>2002</td>\n",
       "      <td>19.50</td>\n",
       "    </tr>\n",
       "    <tr>\n",
       "      <th>3</th>\n",
       "      <td>01 Andalucía</td>\n",
       "      <td>2003</td>\n",
       "      <td>18.45</td>\n",
       "    </tr>\n",
       "    <tr>\n",
       "      <th>4</th>\n",
       "      <td>01 Andalucía</td>\n",
       "      <td>2004</td>\n",
       "      <td>16.99</td>\n",
       "    </tr>\n",
       "  </tbody>\n",
       "</table>\n",
       "</div>"
      ],
      "text/plain": [
       "             CA PERIODO  DESEMPLEO\n",
       "0  01 Andalucía    2000      51.47\n",
       "1  01 Andalucía    2001      50.08\n",
       "2  01 Andalucía    2002      19.50\n",
       "3  01 Andalucía    2003      18.45\n",
       "4  01 Andalucía    2004      16.99"
      ]
     },
     "execution_count": 48,
     "metadata": {},
     "output_type": "execute_result"
    }
   ],
   "source": [
    "CA_PERIODO_DESEMPLEO = funciones.calcular_columna_anual(CA_PERIODO_DESEMPLEO)\n",
    "CA_PERIODO_DESEMPLEO.head()"
   ]
  },
  {
   "cell_type": "code",
   "execution_count": 49,
   "metadata": {},
   "outputs": [
    {
     "data": {
      "text/html": [
       "<div>\n",
       "<style scoped>\n",
       "    .dataframe tbody tr th:only-of-type {\n",
       "        vertical-align: middle;\n",
       "    }\n",
       "\n",
       "    .dataframe tbody tr th {\n",
       "        vertical-align: top;\n",
       "    }\n",
       "\n",
       "    .dataframe thead th {\n",
       "        text-align: right;\n",
       "    }\n",
       "</style>\n",
       "<table border=\"1\" class=\"dataframe\">\n",
       "  <thead>\n",
       "    <tr style=\"text-align: right;\">\n",
       "      <th></th>\n",
       "      <th>CA</th>\n",
       "      <th>PERIODO</th>\n",
       "      <th>DESEMPLEO HOMBRES</th>\n",
       "    </tr>\n",
       "  </thead>\n",
       "  <tbody>\n",
       "    <tr>\n",
       "      <th>0</th>\n",
       "      <td>01 Andalucía</td>\n",
       "      <td>2000</td>\n",
       "      <td>17.79</td>\n",
       "    </tr>\n",
       "    <tr>\n",
       "      <th>1</th>\n",
       "      <td>01 Andalucía</td>\n",
       "      <td>2001</td>\n",
       "      <td>13.89</td>\n",
       "    </tr>\n",
       "    <tr>\n",
       "      <th>2</th>\n",
       "      <td>01 Andalucía</td>\n",
       "      <td>2002</td>\n",
       "      <td>14.28</td>\n",
       "    </tr>\n",
       "    <tr>\n",
       "      <th>3</th>\n",
       "      <td>01 Andalucía</td>\n",
       "      <td>2003</td>\n",
       "      <td>13.70</td>\n",
       "    </tr>\n",
       "    <tr>\n",
       "      <th>4</th>\n",
       "      <td>01 Andalucía</td>\n",
       "      <td>2004</td>\n",
       "      <td>12.60</td>\n",
       "    </tr>\n",
       "  </tbody>\n",
       "</table>\n",
       "</div>"
      ],
      "text/plain": [
       "             CA PERIODO  DESEMPLEO HOMBRES\n",
       "0  01 Andalucía    2000              17.79\n",
       "1  01 Andalucía    2001              13.89\n",
       "2  01 Andalucía    2002              14.28\n",
       "3  01 Andalucía    2003              13.70\n",
       "4  01 Andalucía    2004              12.60"
      ]
     },
     "execution_count": 49,
     "metadata": {},
     "output_type": "execute_result"
    }
   ],
   "source": [
    "CA_PERIODO_DESEMPLEOHOMBRES = funciones.calcular_columna_anual(CA_PERIODO_DESEMPLEOHOMBRES)\n",
    "CA_PERIODO_DESEMPLEOHOMBRES.head()"
   ]
  },
  {
   "cell_type": "code",
   "execution_count": 50,
   "metadata": {},
   "outputs": [
    {
     "data": {
      "text/html": [
       "<div>\n",
       "<style scoped>\n",
       "    .dataframe tbody tr th:only-of-type {\n",
       "        vertical-align: middle;\n",
       "    }\n",
       "\n",
       "    .dataframe tbody tr th {\n",
       "        vertical-align: top;\n",
       "    }\n",
       "\n",
       "    .dataframe thead th {\n",
       "        text-align: right;\n",
       "    }\n",
       "</style>\n",
       "<table border=\"1\" class=\"dataframe\">\n",
       "  <thead>\n",
       "    <tr style=\"text-align: right;\">\n",
       "      <th></th>\n",
       "      <th>CA</th>\n",
       "      <th>PERIODO</th>\n",
       "      <th>DESEMPLEO MUJERES</th>\n",
       "    </tr>\n",
       "  </thead>\n",
       "  <tbody>\n",
       "    <tr>\n",
       "      <th>0</th>\n",
       "      <td>01 Andalucía</td>\n",
       "      <td>2000</td>\n",
       "      <td>34.44</td>\n",
       "    </tr>\n",
       "    <tr>\n",
       "      <th>1</th>\n",
       "      <td>01 Andalucía</td>\n",
       "      <td>2001</td>\n",
       "      <td>26.78</td>\n",
       "    </tr>\n",
       "    <tr>\n",
       "      <th>2</th>\n",
       "      <td>01 Andalucía</td>\n",
       "      <td>2002</td>\n",
       "      <td>27.89</td>\n",
       "    </tr>\n",
       "    <tr>\n",
       "      <th>3</th>\n",
       "      <td>01 Andalucía</td>\n",
       "      <td>2003</td>\n",
       "      <td>25.95</td>\n",
       "    </tr>\n",
       "    <tr>\n",
       "      <th>4</th>\n",
       "      <td>01 Andalucía</td>\n",
       "      <td>2004</td>\n",
       "      <td>23.84</td>\n",
       "    </tr>\n",
       "  </tbody>\n",
       "</table>\n",
       "</div>"
      ],
      "text/plain": [
       "             CA PERIODO  DESEMPLEO MUJERES\n",
       "0  01 Andalucía    2000              34.44\n",
       "1  01 Andalucía    2001              26.78\n",
       "2  01 Andalucía    2002              27.89\n",
       "3  01 Andalucía    2003              25.95\n",
       "4  01 Andalucía    2004              23.84"
      ]
     },
     "execution_count": 50,
     "metadata": {},
     "output_type": "execute_result"
    }
   ],
   "source": [
    "CA_PERIODO_DESEMPLEOMUJERES = funciones.calcular_columna_anual(CA_PERIODO_DESEMPLEOMUJERES)\n",
    "CA_PERIODO_DESEMPLEOMUJERES.head()"
   ]
  },
  {
   "cell_type": "code",
   "execution_count": 51,
   "metadata": {},
   "outputs": [],
   "source": [
    "# EDAD_PERIODO_DESEMPLEO"
   ]
  },
  {
   "cell_type": "code",
   "execution_count": 52,
   "metadata": {},
   "outputs": [
    {
     "data": {
      "text/html": [
       "<div>\n",
       "<style scoped>\n",
       "    .dataframe tbody tr th:only-of-type {\n",
       "        vertical-align: middle;\n",
       "    }\n",
       "\n",
       "    .dataframe tbody tr th {\n",
       "        vertical-align: top;\n",
       "    }\n",
       "\n",
       "    .dataframe thead th {\n",
       "        text-align: right;\n",
       "    }\n",
       "</style>\n",
       "<table border=\"1\" class=\"dataframe\">\n",
       "  <thead>\n",
       "    <tr style=\"text-align: right;\">\n",
       "      <th></th>\n",
       "      <th>EDAD</th>\n",
       "      <th>PERIODO</th>\n",
       "      <th>DESEMPLEO</th>\n",
       "    </tr>\n",
       "  </thead>\n",
       "  <tbody>\n",
       "    <tr>\n",
       "      <th>0</th>\n",
       "      <td>De 16 a 19 años</td>\n",
       "      <td>2000</td>\n",
       "      <td>34.40</td>\n",
       "    </tr>\n",
       "    <tr>\n",
       "      <th>1</th>\n",
       "      <td>De 16 a 19 años</td>\n",
       "      <td>2001</td>\n",
       "      <td>29.16</td>\n",
       "    </tr>\n",
       "    <tr>\n",
       "      <th>2</th>\n",
       "      <td>De 16 a 19 años</td>\n",
       "      <td>2002</td>\n",
       "      <td>29.88</td>\n",
       "    </tr>\n",
       "    <tr>\n",
       "      <th>3</th>\n",
       "      <td>De 16 a 19 años</td>\n",
       "      <td>2003</td>\n",
       "      <td>32.88</td>\n",
       "    </tr>\n",
       "    <tr>\n",
       "      <th>4</th>\n",
       "      <td>De 16 a 19 años</td>\n",
       "      <td>2004</td>\n",
       "      <td>30.73</td>\n",
       "    </tr>\n",
       "  </tbody>\n",
       "</table>\n",
       "</div>"
      ],
      "text/plain": [
       "              EDAD PERIODO  DESEMPLEO\n",
       "0  De 16 a 19 años    2000      34.40\n",
       "1  De 16 a 19 años    2001      29.16\n",
       "2  De 16 a 19 años    2002      29.88\n",
       "3  De 16 a 19 años    2003      32.88\n",
       "4  De 16 a 19 años    2004      30.73"
      ]
     },
     "execution_count": 52,
     "metadata": {},
     "output_type": "execute_result"
    }
   ],
   "source": [
    "EDAD_PERIODO_DESEMPLEO = funciones.calcular_columna_anual(EDAD_PERIODO_DESEMPLEO)\n",
    "EDAD_PERIODO_DESEMPLEO.head()"
   ]
  },
  {
   "cell_type": "code",
   "execution_count": 53,
   "metadata": {},
   "outputs": [
    {
     "data": {
      "text/html": [
       "<div>\n",
       "<style scoped>\n",
       "    .dataframe tbody tr th:only-of-type {\n",
       "        vertical-align: middle;\n",
       "    }\n",
       "\n",
       "    .dataframe tbody tr th {\n",
       "        vertical-align: top;\n",
       "    }\n",
       "\n",
       "    .dataframe thead th {\n",
       "        text-align: right;\n",
       "    }\n",
       "</style>\n",
       "<table border=\"1\" class=\"dataframe\">\n",
       "  <thead>\n",
       "    <tr style=\"text-align: right;\">\n",
       "      <th></th>\n",
       "      <th>EDAD</th>\n",
       "      <th>PERIODO</th>\n",
       "      <th>DESEMPLEO HOMBRES</th>\n",
       "    </tr>\n",
       "  </thead>\n",
       "  <tbody>\n",
       "    <tr>\n",
       "      <th>0</th>\n",
       "      <td>De 16 a 19 años</td>\n",
       "      <td>2000</td>\n",
       "      <td>28.24</td>\n",
       "    </tr>\n",
       "    <tr>\n",
       "      <th>1</th>\n",
       "      <td>De 16 a 19 años</td>\n",
       "      <td>2001</td>\n",
       "      <td>34.28</td>\n",
       "    </tr>\n",
       "    <tr>\n",
       "      <th>2</th>\n",
       "      <td>De 16 a 19 años</td>\n",
       "      <td>2002</td>\n",
       "      <td>25.37</td>\n",
       "    </tr>\n",
       "    <tr>\n",
       "      <th>3</th>\n",
       "      <td>De 16 a 19 años</td>\n",
       "      <td>2003</td>\n",
       "      <td>28.05</td>\n",
       "    </tr>\n",
       "    <tr>\n",
       "      <th>4</th>\n",
       "      <td>De 16 a 19 años</td>\n",
       "      <td>2004</td>\n",
       "      <td>26.57</td>\n",
       "    </tr>\n",
       "  </tbody>\n",
       "</table>\n",
       "</div>"
      ],
      "text/plain": [
       "              EDAD PERIODO  DESEMPLEO HOMBRES\n",
       "0  De 16 a 19 años    2000              28.24\n",
       "1  De 16 a 19 años    2001              34.28\n",
       "2  De 16 a 19 años    2002              25.37\n",
       "3  De 16 a 19 años    2003              28.05\n",
       "4  De 16 a 19 años    2004              26.57"
      ]
     },
     "execution_count": 53,
     "metadata": {},
     "output_type": "execute_result"
    }
   ],
   "source": [
    "EDAD_PERIODO_DESEMPLEOHOMBRES = funciones.calcular_columna_anual(EDAD_PERIODO_DESEMPLEOHOMBRES)\n",
    "EDAD_PERIODO_DESEMPLEOHOMBRES.head()"
   ]
  },
  {
   "cell_type": "code",
   "execution_count": 54,
   "metadata": {},
   "outputs": [
    {
     "data": {
      "text/html": [
       "<div>\n",
       "<style scoped>\n",
       "    .dataframe tbody tr th:only-of-type {\n",
       "        vertical-align: middle;\n",
       "    }\n",
       "\n",
       "    .dataframe tbody tr th {\n",
       "        vertical-align: top;\n",
       "    }\n",
       "\n",
       "    .dataframe thead th {\n",
       "        text-align: right;\n",
       "    }\n",
       "</style>\n",
       "<table border=\"1\" class=\"dataframe\">\n",
       "  <thead>\n",
       "    <tr style=\"text-align: right;\">\n",
       "      <th></th>\n",
       "      <th>EDAD</th>\n",
       "      <th>PERIODO</th>\n",
       "      <th>DESEMPLEO MUJERES</th>\n",
       "    </tr>\n",
       "  </thead>\n",
       "  <tbody>\n",
       "    <tr>\n",
       "      <th>0</th>\n",
       "      <td>De 16 a 19 años</td>\n",
       "      <td>2000</td>\n",
       "      <td>31.66</td>\n",
       "    </tr>\n",
       "    <tr>\n",
       "      <th>1</th>\n",
       "      <td>De 16 a 19 años</td>\n",
       "      <td>2001</td>\n",
       "      <td>36.25</td>\n",
       "    </tr>\n",
       "    <tr>\n",
       "      <th>2</th>\n",
       "      <td>De 16 a 19 años</td>\n",
       "      <td>2002</td>\n",
       "      <td>37.55</td>\n",
       "    </tr>\n",
       "    <tr>\n",
       "      <th>3</th>\n",
       "      <td>De 16 a 19 años</td>\n",
       "      <td>2003</td>\n",
       "      <td>40.96</td>\n",
       "    </tr>\n",
       "    <tr>\n",
       "      <th>4</th>\n",
       "      <td>De 16 a 19 años</td>\n",
       "      <td>2004</td>\n",
       "      <td>37.70</td>\n",
       "    </tr>\n",
       "  </tbody>\n",
       "</table>\n",
       "</div>"
      ],
      "text/plain": [
       "              EDAD PERIODO  DESEMPLEO MUJERES\n",
       "0  De 16 a 19 años    2000              31.66\n",
       "1  De 16 a 19 años    2001              36.25\n",
       "2  De 16 a 19 años    2002              37.55\n",
       "3  De 16 a 19 años    2003              40.96\n",
       "4  De 16 a 19 años    2004              37.70"
      ]
     },
     "execution_count": 54,
     "metadata": {},
     "output_type": "execute_result"
    }
   ],
   "source": [
    "EDAD_PERIODO_DESEMPLEOMUJERES = funciones.calcular_columna_anual(EDAD_PERIODO_DESEMPLEOMUJERES)\n",
    "EDAD_PERIODO_DESEMPLEOMUJERES.head()"
   ]
  },
  {
   "cell_type": "code",
   "execution_count": 55,
   "metadata": {},
   "outputs": [],
   "source": [
    "# PERIODO_DESEMPLEO"
   ]
  },
  {
   "cell_type": "code",
   "execution_count": 56,
   "metadata": {},
   "outputs": [
    {
     "data": {
      "text/html": [
       "<div>\n",
       "<style scoped>\n",
       "    .dataframe tbody tr th:only-of-type {\n",
       "        vertical-align: middle;\n",
       "    }\n",
       "\n",
       "    .dataframe tbody tr th {\n",
       "        vertical-align: top;\n",
       "    }\n",
       "\n",
       "    .dataframe thead th {\n",
       "        text-align: right;\n",
       "    }\n",
       "</style>\n",
       "<table border=\"1\" class=\"dataframe\">\n",
       "  <thead>\n",
       "    <tr style=\"text-align: right;\">\n",
       "      <th></th>\n",
       "      <th>PERIODO</th>\n",
       "      <th>DESEMPLEO</th>\n",
       "    </tr>\n",
       "  </thead>\n",
       "  <tbody>\n",
       "    <tr>\n",
       "      <th>0</th>\n",
       "      <td>2000</td>\n",
       "      <td>13.87</td>\n",
       "    </tr>\n",
       "    <tr>\n",
       "      <th>1</th>\n",
       "      <td>2001</td>\n",
       "      <td>10.55</td>\n",
       "    </tr>\n",
       "    <tr>\n",
       "      <th>2</th>\n",
       "      <td>2002</td>\n",
       "      <td>11.45</td>\n",
       "    </tr>\n",
       "    <tr>\n",
       "      <th>3</th>\n",
       "      <td>2003</td>\n",
       "      <td>11.48</td>\n",
       "    </tr>\n",
       "    <tr>\n",
       "      <th>4</th>\n",
       "      <td>2004</td>\n",
       "      <td>10.96</td>\n",
       "    </tr>\n",
       "  </tbody>\n",
       "</table>\n",
       "</div>"
      ],
      "text/plain": [
       "  PERIODO  DESEMPLEO\n",
       "0    2000      13.87\n",
       "1    2001      10.55\n",
       "2    2002      11.45\n",
       "3    2003      11.48\n",
       "4    2004      10.96"
      ]
     },
     "execution_count": 56,
     "metadata": {},
     "output_type": "execute_result"
    }
   ],
   "source": [
    "PERIODO_DESEMPLEO = funciones.calcular_columna_anual(PERIODO_DESEMPLEO)\n",
    "PERIODO_DESEMPLEO.head()"
   ]
  },
  {
   "cell_type": "code",
   "execution_count": 57,
   "metadata": {},
   "outputs": [
    {
     "data": {
      "text/html": [
       "<div>\n",
       "<style scoped>\n",
       "    .dataframe tbody tr th:only-of-type {\n",
       "        vertical-align: middle;\n",
       "    }\n",
       "\n",
       "    .dataframe tbody tr th {\n",
       "        vertical-align: top;\n",
       "    }\n",
       "\n",
       "    .dataframe thead th {\n",
       "        text-align: right;\n",
       "    }\n",
       "</style>\n",
       "<table border=\"1\" class=\"dataframe\">\n",
       "  <thead>\n",
       "    <tr style=\"text-align: right;\">\n",
       "      <th></th>\n",
       "      <th>PERIODO</th>\n",
       "      <th>DESEMPLEO HOMBRES</th>\n",
       "    </tr>\n",
       "  </thead>\n",
       "  <tbody>\n",
       "    <tr>\n",
       "      <th>0</th>\n",
       "      <td>2000</td>\n",
       "      <td>9.56</td>\n",
       "    </tr>\n",
       "    <tr>\n",
       "      <th>1</th>\n",
       "      <td>2001</td>\n",
       "      <td>7.54</td>\n",
       "    </tr>\n",
       "    <tr>\n",
       "      <th>2</th>\n",
       "      <td>2002</td>\n",
       "      <td>8.30</td>\n",
       "    </tr>\n",
       "    <tr>\n",
       "      <th>3</th>\n",
       "      <td>2003</td>\n",
       "      <td>8.50</td>\n",
       "    </tr>\n",
       "    <tr>\n",
       "      <th>4</th>\n",
       "      <td>2004</td>\n",
       "      <td>8.26</td>\n",
       "    </tr>\n",
       "  </tbody>\n",
       "</table>\n",
       "</div>"
      ],
      "text/plain": [
       "  PERIODO  DESEMPLEO HOMBRES\n",
       "0    2000               9.56\n",
       "1    2001               7.54\n",
       "2    2002               8.30\n",
       "3    2003               8.50\n",
       "4    2004               8.26"
      ]
     },
     "execution_count": 57,
     "metadata": {},
     "output_type": "execute_result"
    }
   ],
   "source": [
    "PERIODO_DESEMPLEOHOMBRES = funciones.calcular_columna_anual(PERIODO_DESEMPLEOHOMBRES)\n",
    "PERIODO_DESEMPLEOHOMBRES.head()"
   ]
  },
  {
   "cell_type": "code",
   "execution_count": 58,
   "metadata": {},
   "outputs": [
    {
     "data": {
      "text/html": [
       "<div>\n",
       "<style scoped>\n",
       "    .dataframe tbody tr th:only-of-type {\n",
       "        vertical-align: middle;\n",
       "    }\n",
       "\n",
       "    .dataframe tbody tr th {\n",
       "        vertical-align: top;\n",
       "    }\n",
       "\n",
       "    .dataframe thead th {\n",
       "        text-align: right;\n",
       "    }\n",
       "</style>\n",
       "<table border=\"1\" class=\"dataframe\">\n",
       "  <thead>\n",
       "    <tr style=\"text-align: right;\">\n",
       "      <th></th>\n",
       "      <th>PERIODO</th>\n",
       "      <th>DESEMPLEO MUJERES</th>\n",
       "    </tr>\n",
       "  </thead>\n",
       "  <tbody>\n",
       "    <tr>\n",
       "      <th>0</th>\n",
       "      <td>2000</td>\n",
       "      <td>20.43</td>\n",
       "    </tr>\n",
       "    <tr>\n",
       "      <th>1</th>\n",
       "      <td>2001</td>\n",
       "      <td>15.22</td>\n",
       "    </tr>\n",
       "    <tr>\n",
       "      <th>2</th>\n",
       "      <td>2002</td>\n",
       "      <td>16.15</td>\n",
       "    </tr>\n",
       "    <tr>\n",
       "      <th>3</th>\n",
       "      <td>2003</td>\n",
       "      <td>15.84</td>\n",
       "    </tr>\n",
       "    <tr>\n",
       "      <th>4</th>\n",
       "      <td>2004</td>\n",
       "      <td>14.82</td>\n",
       "    </tr>\n",
       "  </tbody>\n",
       "</table>\n",
       "</div>"
      ],
      "text/plain": [
       "  PERIODO  DESEMPLEO MUJERES\n",
       "0    2000              20.43\n",
       "1    2001              15.22\n",
       "2    2002              16.15\n",
       "3    2003              15.84\n",
       "4    2004              14.82"
      ]
     },
     "execution_count": 58,
     "metadata": {},
     "output_type": "execute_result"
    }
   ],
   "source": [
    "PERIODO_DESEMPLEOMUJERES = funciones.calcular_columna_anual(PERIODO_DESEMPLEOMUJERES)\n",
    "PERIODO_DESEMPLEOMUJERES.head()"
   ]
  },
  {
   "cell_type": "markdown",
   "metadata": {},
   "source": [
    "  **2.Función:**\n",
    "  > quitar_ca(nombre_archivo)\n",
    "\n",
    "Las columnas de 'CA' aparecen enumeradas. Como esta:\n",
    "\n",
    "        | 01 Andalucía |\n",
    "\n",
    " Se genera una nueva columna de 'CCAA' con las Comunidades Autónomas sin numerar y se elimina la antigua. Quedando así:\n",
    " \n",
    "        | Andalucía |"
   ]
  },
  {
   "cell_type": "code",
   "execution_count": 59,
   "metadata": {},
   "outputs": [],
   "source": [
    "# CA_PERIODO_SUICIDIOS"
   ]
  },
  {
   "cell_type": "code",
   "execution_count": 60,
   "metadata": {},
   "outputs": [
    {
     "data": {
      "text/html": [
       "<div>\n",
       "<style scoped>\n",
       "    .dataframe tbody tr th:only-of-type {\n",
       "        vertical-align: middle;\n",
       "    }\n",
       "\n",
       "    .dataframe tbody tr th {\n",
       "        vertical-align: top;\n",
       "    }\n",
       "\n",
       "    .dataframe thead th {\n",
       "        text-align: right;\n",
       "    }\n",
       "</style>\n",
       "<table border=\"1\" class=\"dataframe\">\n",
       "  <thead>\n",
       "    <tr style=\"text-align: right;\">\n",
       "      <th></th>\n",
       "      <th>PERIODO</th>\n",
       "      <th>SUICIDIOS</th>\n",
       "      <th>CCAA</th>\n",
       "    </tr>\n",
       "  </thead>\n",
       "  <tbody>\n",
       "    <tr>\n",
       "      <th>0</th>\n",
       "      <td>2020</td>\n",
       "      <td>793</td>\n",
       "      <td>Andalucía</td>\n",
       "    </tr>\n",
       "    <tr>\n",
       "      <th>1</th>\n",
       "      <td>2019</td>\n",
       "      <td>640</td>\n",
       "      <td>Andalucía</td>\n",
       "    </tr>\n",
       "    <tr>\n",
       "      <th>2</th>\n",
       "      <td>2018</td>\n",
       "      <td>653</td>\n",
       "      <td>Andalucía</td>\n",
       "    </tr>\n",
       "    <tr>\n",
       "      <th>3</th>\n",
       "      <td>2017</td>\n",
       "      <td>692</td>\n",
       "      <td>Andalucía</td>\n",
       "    </tr>\n",
       "    <tr>\n",
       "      <th>4</th>\n",
       "      <td>2016</td>\n",
       "      <td>668</td>\n",
       "      <td>Andalucía</td>\n",
       "    </tr>\n",
       "  </tbody>\n",
       "</table>\n",
       "</div>"
      ],
      "text/plain": [
       "   PERIODO  SUICIDIOS        CCAA\n",
       "0     2020        793   Andalucía\n",
       "1     2019        640   Andalucía\n",
       "2     2018        653   Andalucía\n",
       "3     2017        692   Andalucía\n",
       "4     2016        668   Andalucía"
      ]
     },
     "execution_count": 60,
     "metadata": {},
     "output_type": "execute_result"
    }
   ],
   "source": [
    "CA_PERIODO_SUICIDIOS = funciones.quitar_ca(CA_PERIODO_SUICIDIOS)\n",
    "CA_PERIODO_SUICIDIOS.head()"
   ]
  },
  {
   "cell_type": "code",
   "execution_count": 61,
   "metadata": {},
   "outputs": [
    {
     "data": {
      "text/html": [
       "<div>\n",
       "<style scoped>\n",
       "    .dataframe tbody tr th:only-of-type {\n",
       "        vertical-align: middle;\n",
       "    }\n",
       "\n",
       "    .dataframe tbody tr th {\n",
       "        vertical-align: top;\n",
       "    }\n",
       "\n",
       "    .dataframe thead th {\n",
       "        text-align: right;\n",
       "    }\n",
       "</style>\n",
       "<table border=\"1\" class=\"dataframe\">\n",
       "  <thead>\n",
       "    <tr style=\"text-align: right;\">\n",
       "      <th></th>\n",
       "      <th>PERIODO</th>\n",
       "      <th>SUICIDIOS HOMBRES</th>\n",
       "      <th>CCAA</th>\n",
       "    </tr>\n",
       "  </thead>\n",
       "  <tbody>\n",
       "    <tr>\n",
       "      <th>0</th>\n",
       "      <td>2020</td>\n",
       "      <td>576</td>\n",
       "      <td>Andalucía</td>\n",
       "    </tr>\n",
       "    <tr>\n",
       "      <th>1</th>\n",
       "      <td>2019</td>\n",
       "      <td>478</td>\n",
       "      <td>Andalucía</td>\n",
       "    </tr>\n",
       "    <tr>\n",
       "      <th>2</th>\n",
       "      <td>2018</td>\n",
       "      <td>505</td>\n",
       "      <td>Andalucía</td>\n",
       "    </tr>\n",
       "    <tr>\n",
       "      <th>3</th>\n",
       "      <td>2017</td>\n",
       "      <td>506</td>\n",
       "      <td>Andalucía</td>\n",
       "    </tr>\n",
       "    <tr>\n",
       "      <th>4</th>\n",
       "      <td>2016</td>\n",
       "      <td>528</td>\n",
       "      <td>Andalucía</td>\n",
       "    </tr>\n",
       "  </tbody>\n",
       "</table>\n",
       "</div>"
      ],
      "text/plain": [
       "   PERIODO  SUICIDIOS HOMBRES        CCAA\n",
       "0     2020                576   Andalucía\n",
       "1     2019                478   Andalucía\n",
       "2     2018                505   Andalucía\n",
       "3     2017                506   Andalucía\n",
       "4     2016                528   Andalucía"
      ]
     },
     "execution_count": 61,
     "metadata": {},
     "output_type": "execute_result"
    }
   ],
   "source": [
    "CA_PERIODO_SUICIDIOSHOMBRES = funciones.quitar_ca(CA_PERIODO_SUICIDIOSHOMBRES)\n",
    "CA_PERIODO_SUICIDIOSHOMBRES.head()"
   ]
  },
  {
   "cell_type": "code",
   "execution_count": 62,
   "metadata": {},
   "outputs": [
    {
     "data": {
      "text/html": [
       "<div>\n",
       "<style scoped>\n",
       "    .dataframe tbody tr th:only-of-type {\n",
       "        vertical-align: middle;\n",
       "    }\n",
       "\n",
       "    .dataframe tbody tr th {\n",
       "        vertical-align: top;\n",
       "    }\n",
       "\n",
       "    .dataframe thead th {\n",
       "        text-align: right;\n",
       "    }\n",
       "</style>\n",
       "<table border=\"1\" class=\"dataframe\">\n",
       "  <thead>\n",
       "    <tr style=\"text-align: right;\">\n",
       "      <th></th>\n",
       "      <th>PERIODO</th>\n",
       "      <th>SUICIDIOS MUJERES</th>\n",
       "      <th>CCAA</th>\n",
       "    </tr>\n",
       "  </thead>\n",
       "  <tbody>\n",
       "    <tr>\n",
       "      <th>0</th>\n",
       "      <td>2020</td>\n",
       "      <td>217</td>\n",
       "      <td>Andalucía</td>\n",
       "    </tr>\n",
       "    <tr>\n",
       "      <th>1</th>\n",
       "      <td>2019</td>\n",
       "      <td>162</td>\n",
       "      <td>Andalucía</td>\n",
       "    </tr>\n",
       "    <tr>\n",
       "      <th>2</th>\n",
       "      <td>2018</td>\n",
       "      <td>148</td>\n",
       "      <td>Andalucía</td>\n",
       "    </tr>\n",
       "    <tr>\n",
       "      <th>3</th>\n",
       "      <td>2017</td>\n",
       "      <td>186</td>\n",
       "      <td>Andalucía</td>\n",
       "    </tr>\n",
       "    <tr>\n",
       "      <th>4</th>\n",
       "      <td>2016</td>\n",
       "      <td>140</td>\n",
       "      <td>Andalucía</td>\n",
       "    </tr>\n",
       "  </tbody>\n",
       "</table>\n",
       "</div>"
      ],
      "text/plain": [
       "   PERIODO  SUICIDIOS MUJERES        CCAA\n",
       "0     2020                217   Andalucía\n",
       "1     2019                162   Andalucía\n",
       "2     2018                148   Andalucía\n",
       "3     2017                186   Andalucía\n",
       "4     2016                140   Andalucía"
      ]
     },
     "execution_count": 62,
     "metadata": {},
     "output_type": "execute_result"
    }
   ],
   "source": [
    "CA_PERIODO_SUICIDIOSMUJERES = funciones.quitar_ca(CA_PERIODO_SUICIDIOSMUJERES)\n",
    "CA_PERIODO_SUICIDIOSMUJERES.head()"
   ]
  },
  {
   "cell_type": "code",
   "execution_count": 63,
   "metadata": {},
   "outputs": [],
   "source": [
    "# CA_PERIODO_DESEMPLEO"
   ]
  },
  {
   "cell_type": "code",
   "execution_count": 64,
   "metadata": {},
   "outputs": [
    {
     "data": {
      "text/html": [
       "<div>\n",
       "<style scoped>\n",
       "    .dataframe tbody tr th:only-of-type {\n",
       "        vertical-align: middle;\n",
       "    }\n",
       "\n",
       "    .dataframe tbody tr th {\n",
       "        vertical-align: top;\n",
       "    }\n",
       "\n",
       "    .dataframe thead th {\n",
       "        text-align: right;\n",
       "    }\n",
       "</style>\n",
       "<table border=\"1\" class=\"dataframe\">\n",
       "  <thead>\n",
       "    <tr style=\"text-align: right;\">\n",
       "      <th></th>\n",
       "      <th>PERIODO</th>\n",
       "      <th>DESEMPLEO</th>\n",
       "      <th>CCAA</th>\n",
       "    </tr>\n",
       "  </thead>\n",
       "  <tbody>\n",
       "    <tr>\n",
       "      <th>0</th>\n",
       "      <td>2000</td>\n",
       "      <td>51.47</td>\n",
       "      <td>Andalucía</td>\n",
       "    </tr>\n",
       "    <tr>\n",
       "      <th>1</th>\n",
       "      <td>2001</td>\n",
       "      <td>50.08</td>\n",
       "      <td>Andalucía</td>\n",
       "    </tr>\n",
       "    <tr>\n",
       "      <th>2</th>\n",
       "      <td>2002</td>\n",
       "      <td>19.50</td>\n",
       "      <td>Andalucía</td>\n",
       "    </tr>\n",
       "    <tr>\n",
       "      <th>3</th>\n",
       "      <td>2003</td>\n",
       "      <td>18.45</td>\n",
       "      <td>Andalucía</td>\n",
       "    </tr>\n",
       "    <tr>\n",
       "      <th>4</th>\n",
       "      <td>2004</td>\n",
       "      <td>16.99</td>\n",
       "      <td>Andalucía</td>\n",
       "    </tr>\n",
       "  </tbody>\n",
       "</table>\n",
       "</div>"
      ],
      "text/plain": [
       "  PERIODO  DESEMPLEO        CCAA\n",
       "0    2000      51.47   Andalucía\n",
       "1    2001      50.08   Andalucía\n",
       "2    2002      19.50   Andalucía\n",
       "3    2003      18.45   Andalucía\n",
       "4    2004      16.99   Andalucía"
      ]
     },
     "execution_count": 64,
     "metadata": {},
     "output_type": "execute_result"
    }
   ],
   "source": [
    "CA_PERIODO_DESEMPLEO = funciones.quitar_ca(CA_PERIODO_DESEMPLEO)\n",
    "CA_PERIODO_DESEMPLEO.head()"
   ]
  },
  {
   "cell_type": "code",
   "execution_count": 65,
   "metadata": {},
   "outputs": [
    {
     "data": {
      "text/html": [
       "<div>\n",
       "<style scoped>\n",
       "    .dataframe tbody tr th:only-of-type {\n",
       "        vertical-align: middle;\n",
       "    }\n",
       "\n",
       "    .dataframe tbody tr th {\n",
       "        vertical-align: top;\n",
       "    }\n",
       "\n",
       "    .dataframe thead th {\n",
       "        text-align: right;\n",
       "    }\n",
       "</style>\n",
       "<table border=\"1\" class=\"dataframe\">\n",
       "  <thead>\n",
       "    <tr style=\"text-align: right;\">\n",
       "      <th></th>\n",
       "      <th>PERIODO</th>\n",
       "      <th>DESEMPLEO HOMBRES</th>\n",
       "      <th>CCAA</th>\n",
       "    </tr>\n",
       "  </thead>\n",
       "  <tbody>\n",
       "    <tr>\n",
       "      <th>0</th>\n",
       "      <td>2000</td>\n",
       "      <td>17.79</td>\n",
       "      <td>Andalucía</td>\n",
       "    </tr>\n",
       "    <tr>\n",
       "      <th>1</th>\n",
       "      <td>2001</td>\n",
       "      <td>13.89</td>\n",
       "      <td>Andalucía</td>\n",
       "    </tr>\n",
       "    <tr>\n",
       "      <th>2</th>\n",
       "      <td>2002</td>\n",
       "      <td>14.28</td>\n",
       "      <td>Andalucía</td>\n",
       "    </tr>\n",
       "    <tr>\n",
       "      <th>3</th>\n",
       "      <td>2003</td>\n",
       "      <td>13.70</td>\n",
       "      <td>Andalucía</td>\n",
       "    </tr>\n",
       "    <tr>\n",
       "      <th>4</th>\n",
       "      <td>2004</td>\n",
       "      <td>12.60</td>\n",
       "      <td>Andalucía</td>\n",
       "    </tr>\n",
       "    <tr>\n",
       "      <th>...</th>\n",
       "      <td>...</td>\n",
       "      <td>...</td>\n",
       "      <td>...</td>\n",
       "    </tr>\n",
       "    <tr>\n",
       "      <th>499</th>\n",
       "      <td>2000</td>\n",
       "      <td>6.62</td>\n",
       "      <td>Castilla - La Mancha</td>\n",
       "    </tr>\n",
       "    <tr>\n",
       "      <th>500</th>\n",
       "      <td>2000</td>\n",
       "      <td>7.73</td>\n",
       "      <td>Castilla y León</td>\n",
       "    </tr>\n",
       "    <tr>\n",
       "      <th>501</th>\n",
       "      <td>2000</td>\n",
       "      <td>7.25</td>\n",
       "      <td>Castilla - La Mancha</td>\n",
       "    </tr>\n",
       "    <tr>\n",
       "      <th>502</th>\n",
       "      <td>2000</td>\n",
       "      <td>8.85</td>\n",
       "      <td>Castilla y León</td>\n",
       "    </tr>\n",
       "    <tr>\n",
       "      <th>503</th>\n",
       "      <td>2000</td>\n",
       "      <td>7.96</td>\n",
       "      <td>Castilla - La Mancha</td>\n",
       "    </tr>\n",
       "  </tbody>\n",
       "</table>\n",
       "<p>504 rows × 3 columns</p>\n",
       "</div>"
      ],
      "text/plain": [
       "    PERIODO  DESEMPLEO HOMBRES                   CCAA\n",
       "0      2000              17.79              Andalucía\n",
       "1      2001              13.89              Andalucía\n",
       "2      2002              14.28              Andalucía\n",
       "3      2003              13.70              Andalucía\n",
       "4      2004              12.60              Andalucía\n",
       "..      ...                ...                    ...\n",
       "499    2000               6.62   Castilla - La Mancha\n",
       "500    2000               7.73        Castilla y León\n",
       "501    2000               7.25   Castilla - La Mancha\n",
       "502    2000               8.85        Castilla y León\n",
       "503    2000               7.96   Castilla - La Mancha\n",
       "\n",
       "[504 rows x 3 columns]"
      ]
     },
     "execution_count": 65,
     "metadata": {},
     "output_type": "execute_result"
    }
   ],
   "source": [
    "CA_PERIODO_DESEMPLEOHOMBRES = funciones.quitar_ca(CA_PERIODO_DESEMPLEOHOMBRES)\n",
    "CA_PERIODO_DESEMPLEOHOMBRES"
   ]
  },
  {
   "cell_type": "code",
   "execution_count": 66,
   "metadata": {},
   "outputs": [
    {
     "data": {
      "text/html": [
       "<div>\n",
       "<style scoped>\n",
       "    .dataframe tbody tr th:only-of-type {\n",
       "        vertical-align: middle;\n",
       "    }\n",
       "\n",
       "    .dataframe tbody tr th {\n",
       "        vertical-align: top;\n",
       "    }\n",
       "\n",
       "    .dataframe thead th {\n",
       "        text-align: right;\n",
       "    }\n",
       "</style>\n",
       "<table border=\"1\" class=\"dataframe\">\n",
       "  <thead>\n",
       "    <tr style=\"text-align: right;\">\n",
       "      <th></th>\n",
       "      <th>PERIODO</th>\n",
       "      <th>DESEMPLEO MUJERES</th>\n",
       "      <th>CCAA</th>\n",
       "    </tr>\n",
       "  </thead>\n",
       "  <tbody>\n",
       "    <tr>\n",
       "      <th>0</th>\n",
       "      <td>2000</td>\n",
       "      <td>34.44</td>\n",
       "      <td>Andalucía</td>\n",
       "    </tr>\n",
       "    <tr>\n",
       "      <th>1</th>\n",
       "      <td>2001</td>\n",
       "      <td>26.78</td>\n",
       "      <td>Andalucía</td>\n",
       "    </tr>\n",
       "    <tr>\n",
       "      <th>2</th>\n",
       "      <td>2002</td>\n",
       "      <td>27.89</td>\n",
       "      <td>Andalucía</td>\n",
       "    </tr>\n",
       "    <tr>\n",
       "      <th>3</th>\n",
       "      <td>2003</td>\n",
       "      <td>25.95</td>\n",
       "      <td>Andalucía</td>\n",
       "    </tr>\n",
       "    <tr>\n",
       "      <th>4</th>\n",
       "      <td>2004</td>\n",
       "      <td>23.84</td>\n",
       "      <td>Andalucía</td>\n",
       "    </tr>\n",
       "  </tbody>\n",
       "</table>\n",
       "</div>"
      ],
      "text/plain": [
       "  PERIODO  DESEMPLEO MUJERES        CCAA\n",
       "0    2000              34.44   Andalucía\n",
       "1    2001              26.78   Andalucía\n",
       "2    2002              27.89   Andalucía\n",
       "3    2003              25.95   Andalucía\n",
       "4    2004              23.84   Andalucía"
      ]
     },
     "execution_count": 66,
     "metadata": {},
     "output_type": "execute_result"
    }
   ],
   "source": [
    "CA_PERIODO_DESEMPLEOMUJERES = funciones.quitar_ca(CA_PERIODO_DESEMPLEOMUJERES)\n",
    "CA_PERIODO_DESEMPLEOMUJERES.head()"
   ]
  },
  {
   "cell_type": "code",
   "execution_count": 67,
   "metadata": {},
   "outputs": [],
   "source": [
    "# CA_PERIODO_PIB"
   ]
  },
  {
   "cell_type": "code",
   "execution_count": 68,
   "metadata": {},
   "outputs": [
    {
     "data": {
      "text/html": [
       "<div>\n",
       "<style scoped>\n",
       "    .dataframe tbody tr th:only-of-type {\n",
       "        vertical-align: middle;\n",
       "    }\n",
       "\n",
       "    .dataframe tbody tr th {\n",
       "        vertical-align: top;\n",
       "    }\n",
       "\n",
       "    .dataframe thead th {\n",
       "        text-align: right;\n",
       "    }\n",
       "</style>\n",
       "<table border=\"1\" class=\"dataframe\">\n",
       "  <thead>\n",
       "    <tr style=\"text-align: right;\">\n",
       "      <th></th>\n",
       "      <th>PERIODO</th>\n",
       "      <th>PIB</th>\n",
       "      <th>CCAA</th>\n",
       "    </tr>\n",
       "  </thead>\n",
       "  <tbody>\n",
       "    <tr>\n",
       "      <th>0</th>\n",
       "      <td>2020</td>\n",
       "      <td>17747</td>\n",
       "      <td>Andalucía</td>\n",
       "    </tr>\n",
       "    <tr>\n",
       "      <th>1</th>\n",
       "      <td>2019</td>\n",
       "      <td>19530</td>\n",
       "      <td>Andalucía</td>\n",
       "    </tr>\n",
       "    <tr>\n",
       "      <th>2</th>\n",
       "      <td>2018</td>\n",
       "      <td>19103</td>\n",
       "      <td>Andalucía</td>\n",
       "    </tr>\n",
       "    <tr>\n",
       "      <th>3</th>\n",
       "      <td>2017</td>\n",
       "      <td>18490</td>\n",
       "      <td>Andalucía</td>\n",
       "    </tr>\n",
       "    <tr>\n",
       "      <th>4</th>\n",
       "      <td>2016</td>\n",
       "      <td>17659</td>\n",
       "      <td>Andalucía</td>\n",
       "    </tr>\n",
       "  </tbody>\n",
       "</table>\n",
       "</div>"
      ],
      "text/plain": [
       "   PERIODO    PIB        CCAA\n",
       "0     2020  17747   Andalucía\n",
       "1     2019  19530   Andalucía\n",
       "2     2018  19103   Andalucía\n",
       "3     2017  18490   Andalucía\n",
       "4     2016  17659   Andalucía"
      ]
     },
     "execution_count": 68,
     "metadata": {},
     "output_type": "execute_result"
    }
   ],
   "source": [
    "CA_PERIODO_PIB = funciones.quitar_ca(CA_PERIODO_PIB)\n",
    "CA_PERIODO_PIB.head()"
   ]
  },
  {
   "cell_type": "markdown",
   "metadata": {},
   "source": [
    "---------"
   ]
  },
  {
   "cell_type": "markdown",
   "metadata": {},
   "source": [
    "### **UNIENDO DATAFRAMES:**\n",
    "    "
   ]
  },
  {
   "cell_type": "markdown",
   "metadata": {},
   "source": [
    "Unimos los dataframes para posteriormentne obtener los archivos:\n",
    "- CA_PERIODO_SUICIDIOSCCAA_DESEMPLEO_PIB.csv\n",
    "- PERIODO_SUICIDIOSNACIONALES_DESEMPLEO_PIB.csv"
   ]
  },
  {
   "cell_type": "code",
   "execution_count": 78,
   "metadata": {},
   "outputs": [
    {
     "data": {
      "text/html": [
       "<div>\n",
       "<style scoped>\n",
       "    .dataframe tbody tr th:only-of-type {\n",
       "        vertical-align: middle;\n",
       "    }\n",
       "\n",
       "    .dataframe tbody tr th {\n",
       "        vertical-align: top;\n",
       "    }\n",
       "\n",
       "    .dataframe thead th {\n",
       "        text-align: right;\n",
       "    }\n",
       "</style>\n",
       "<table border=\"1\" class=\"dataframe\">\n",
       "  <thead>\n",
       "    <tr style=\"text-align: right;\">\n",
       "      <th></th>\n",
       "      <th>PERIODO</th>\n",
       "      <th>SUICIDIOS</th>\n",
       "      <th>CCAA</th>\n",
       "      <th>SUICIDIOS HOMBRES</th>\n",
       "      <th>SUICIDIOS MUJERES</th>\n",
       "      <th>DESEMPLEO</th>\n",
       "      <th>DESEMPLEO HOMBRES</th>\n",
       "      <th>DESEMPLEO MUJERES</th>\n",
       "      <th>PIB</th>\n",
       "    </tr>\n",
       "  </thead>\n",
       "  <tbody>\n",
       "    <tr>\n",
       "      <th>0</th>\n",
       "      <td>2020.0</td>\n",
       "      <td>793.0</td>\n",
       "      <td>Andalucía</td>\n",
       "      <td>576.0</td>\n",
       "      <td>217.0</td>\n",
       "      <td>51.47</td>\n",
       "      <td>17.79</td>\n",
       "      <td>34.44</td>\n",
       "      <td>17747.0</td>\n",
       "    </tr>\n",
       "    <tr>\n",
       "      <th>1</th>\n",
       "      <td>2019.0</td>\n",
       "      <td>640.0</td>\n",
       "      <td>Andalucía</td>\n",
       "      <td>478.0</td>\n",
       "      <td>162.0</td>\n",
       "      <td>50.08</td>\n",
       "      <td>13.89</td>\n",
       "      <td>26.78</td>\n",
       "      <td>19530.0</td>\n",
       "    </tr>\n",
       "    <tr>\n",
       "      <th>2</th>\n",
       "      <td>2018.0</td>\n",
       "      <td>653.0</td>\n",
       "      <td>Andalucía</td>\n",
       "      <td>505.0</td>\n",
       "      <td>148.0</td>\n",
       "      <td>19.50</td>\n",
       "      <td>14.28</td>\n",
       "      <td>27.89</td>\n",
       "      <td>19103.0</td>\n",
       "    </tr>\n",
       "    <tr>\n",
       "      <th>3</th>\n",
       "      <td>2017.0</td>\n",
       "      <td>692.0</td>\n",
       "      <td>Andalucía</td>\n",
       "      <td>506.0</td>\n",
       "      <td>186.0</td>\n",
       "      <td>18.45</td>\n",
       "      <td>13.70</td>\n",
       "      <td>25.95</td>\n",
       "      <td>18490.0</td>\n",
       "    </tr>\n",
       "    <tr>\n",
       "      <th>4</th>\n",
       "      <td>2016.0</td>\n",
       "      <td>668.0</td>\n",
       "      <td>Andalucía</td>\n",
       "      <td>528.0</td>\n",
       "      <td>140.0</td>\n",
       "      <td>16.99</td>\n",
       "      <td>12.60</td>\n",
       "      <td>23.84</td>\n",
       "      <td>17659.0</td>\n",
       "    </tr>\n",
       "  </tbody>\n",
       "</table>\n",
       "</div>"
      ],
      "text/plain": [
       "   PERIODO  SUICIDIOS        CCAA  SUICIDIOS HOMBRES  SUICIDIOS MUJERES  \\\n",
       "0   2020.0      793.0   Andalucía              576.0              217.0   \n",
       "1   2019.0      640.0   Andalucía              478.0              162.0   \n",
       "2   2018.0      653.0   Andalucía              505.0              148.0   \n",
       "3   2017.0      692.0   Andalucía              506.0              186.0   \n",
       "4   2016.0      668.0   Andalucía              528.0              140.0   \n",
       "\n",
       "   DESEMPLEO  DESEMPLEO HOMBRES  DESEMPLEO MUJERES      PIB  \n",
       "0      51.47              17.79              34.44  17747.0  \n",
       "1      50.08              13.89              26.78  19530.0  \n",
       "2      19.50              14.28              27.89  19103.0  \n",
       "3      18.45              13.70              25.95  18490.0  \n",
       "4      16.99              12.60              23.84  17659.0  "
      ]
     },
     "execution_count": 78,
     "metadata": {},
     "output_type": "execute_result"
    }
   ],
   "source": [
    "# DATAFRAME DE COMUNIDADES: SUICIDIOS, DESEMPLEO Y PIB\n",
    "df = pd.concat([CA_PERIODO_SUICIDIOS, CA_PERIODO_SUICIDIOSHOMBRES, CA_PERIODO_SUICIDIOSMUJERES, CA_PERIODO_DESEMPLEO,CA_PERIODO_DESEMPLEOHOMBRES, CA_PERIODO_DESEMPLEOMUJERES,  CA_PERIODO_PIB], axis=1)\n",
    "df = df.loc[:,~df.columns.duplicated()] # Eliminamos las columnas duplicadas y nos quedamos con una.\n",
    "CA_PERIODO_SUICIDIOS_DESEMPLEO_PIB = df\n",
    "CA_PERIODO_SUICIDIOS_DESEMPLEO_PIB.head()"
   ]
  },
  {
   "cell_type": "code",
   "execution_count": 71,
   "metadata": {},
   "outputs": [
    {
     "data": {
      "text/html": [
       "<div>\n",
       "<style scoped>\n",
       "    .dataframe tbody tr th:only-of-type {\n",
       "        vertical-align: middle;\n",
       "    }\n",
       "\n",
       "    .dataframe tbody tr th {\n",
       "        vertical-align: top;\n",
       "    }\n",
       "\n",
       "    .dataframe thead th {\n",
       "        text-align: right;\n",
       "    }\n",
       "</style>\n",
       "<table border=\"1\" class=\"dataframe\">\n",
       "  <thead>\n",
       "    <tr style=\"text-align: right;\">\n",
       "      <th></th>\n",
       "      <th>PERIODO</th>\n",
       "      <th>CCAA</th>\n",
       "      <th>DESEMPLEO</th>\n",
       "      <th>DESEMPLEO HOMBRES</th>\n",
       "      <th>DESEMPLEO MUJERES</th>\n",
       "      <th>SUICIDIOS</th>\n",
       "      <th>SUICIDIOS HOMBRES</th>\n",
       "      <th>SUICIDIOS MUJERES</th>\n",
       "      <th>PIB</th>\n",
       "    </tr>\n",
       "  </thead>\n",
       "  <tbody>\n",
       "    <tr>\n",
       "      <th>0</th>\n",
       "      <td>2000</td>\n",
       "      <td>Andalucía</td>\n",
       "      <td>51.47</td>\n",
       "      <td>17.79</td>\n",
       "      <td>34.44</td>\n",
       "      <td>793.0</td>\n",
       "      <td>576.0</td>\n",
       "      <td>217.0</td>\n",
       "      <td>17747.0</td>\n",
       "    </tr>\n",
       "    <tr>\n",
       "      <th>1</th>\n",
       "      <td>2001</td>\n",
       "      <td>Andalucía</td>\n",
       "      <td>50.08</td>\n",
       "      <td>13.89</td>\n",
       "      <td>26.78</td>\n",
       "      <td>640.0</td>\n",
       "      <td>478.0</td>\n",
       "      <td>162.0</td>\n",
       "      <td>19530.0</td>\n",
       "    </tr>\n",
       "    <tr>\n",
       "      <th>2</th>\n",
       "      <td>2002</td>\n",
       "      <td>Andalucía</td>\n",
       "      <td>19.50</td>\n",
       "      <td>14.28</td>\n",
       "      <td>27.89</td>\n",
       "      <td>653.0</td>\n",
       "      <td>505.0</td>\n",
       "      <td>148.0</td>\n",
       "      <td>19103.0</td>\n",
       "    </tr>\n",
       "    <tr>\n",
       "      <th>3</th>\n",
       "      <td>2003</td>\n",
       "      <td>Andalucía</td>\n",
       "      <td>18.45</td>\n",
       "      <td>13.70</td>\n",
       "      <td>25.95</td>\n",
       "      <td>692.0</td>\n",
       "      <td>506.0</td>\n",
       "      <td>186.0</td>\n",
       "      <td>18490.0</td>\n",
       "    </tr>\n",
       "    <tr>\n",
       "      <th>4</th>\n",
       "      <td>2004</td>\n",
       "      <td>Andalucía</td>\n",
       "      <td>16.99</td>\n",
       "      <td>12.60</td>\n",
       "      <td>23.84</td>\n",
       "      <td>668.0</td>\n",
       "      <td>528.0</td>\n",
       "      <td>140.0</td>\n",
       "      <td>17659.0</td>\n",
       "    </tr>\n",
       "  </tbody>\n",
       "</table>\n",
       "</div>"
      ],
      "text/plain": [
       "  PERIODO        CCAA  DESEMPLEO  DESEMPLEO HOMBRES  DESEMPLEO MUJERES  \\\n",
       "0    2000   Andalucía      51.47              17.79              34.44   \n",
       "1    2001   Andalucía      50.08              13.89              26.78   \n",
       "2    2002   Andalucía      19.50              14.28              27.89   \n",
       "3    2003   Andalucía      18.45              13.70              25.95   \n",
       "4    2004   Andalucía      16.99              12.60              23.84   \n",
       "\n",
       "   SUICIDIOS  SUICIDIOS HOMBRES  SUICIDIOS MUJERES      PIB  \n",
       "0      793.0              576.0              217.0  17747.0  \n",
       "1      640.0              478.0              162.0  19530.0  \n",
       "2      653.0              505.0              148.0  19103.0  \n",
       "3      692.0              506.0              186.0  18490.0  \n",
       "4      668.0              528.0              140.0  17659.0  "
      ]
     },
     "execution_count": 71,
     "metadata": {},
     "output_type": "execute_result"
    }
   ],
   "source": [
    "# DATAFRAME DE COMUNIDADES: SUICIDIOS, DESEMPLEO, PIB Y SEXO\n",
    "df = pd.concat([CA_PERIODO_DESEMPLEO, CA_PERIODO_DESEMPLEOHOMBRES, CA_PERIODO_DESEMPLEOMUJERES, CA_PERIODO_SUICIDIOS, CA_PERIODO_SUICIDIOSHOMBRES, CA_PERIODO_SUICIDIOSMUJERES, CA_PERIODO_PIB], axis=1)\n",
    "df = df.loc[:,~df.columns.duplicated()] # Eliminamos las columnas duplicadas y nos quedamos con una.\n",
    "df = df[['PERIODO', 'CCAA', 'DESEMPLEO', 'DESEMPLEO HOMBRES', 'DESEMPLEO MUJERES', 'SUICIDIOS', 'SUICIDIOS HOMBRES', 'SUICIDIOS MUJERES', 'PIB']]  # Ordenamos las columnas.\n",
    "CA_PERIODO_SUICIDIOSCCAA_DESEMPLEO_PIB = df\n",
    "CA_PERIODO_SUICIDIOSCCAA_DESEMPLEO_PIB.head()"
   ]
  },
  {
   "cell_type": "code",
   "execution_count": 72,
   "metadata": {},
   "outputs": [
    {
     "data": {
      "text/html": [
       "<div>\n",
       "<style scoped>\n",
       "    .dataframe tbody tr th:only-of-type {\n",
       "        vertical-align: middle;\n",
       "    }\n",
       "\n",
       "    .dataframe tbody tr th {\n",
       "        vertical-align: top;\n",
       "    }\n",
       "\n",
       "    .dataframe thead th {\n",
       "        text-align: right;\n",
       "    }\n",
       "</style>\n",
       "<table border=\"1\" class=\"dataframe\">\n",
       "  <thead>\n",
       "    <tr style=\"text-align: right;\">\n",
       "      <th></th>\n",
       "      <th>PERIODO</th>\n",
       "      <th>DESEMPLEO</th>\n",
       "      <th>DESEMPLEO HOMBRES</th>\n",
       "      <th>DESEMPLEO MUJERES</th>\n",
       "      <th>SUICIDIOS</th>\n",
       "      <th>SUICIDIOS HOMBRES</th>\n",
       "      <th>SUICIDIOS MUJERES</th>\n",
       "      <th>PIB</th>\n",
       "    </tr>\n",
       "  </thead>\n",
       "  <tbody>\n",
       "    <tr>\n",
       "      <th>20</th>\n",
       "      <td>2000</td>\n",
       "      <td>15.53</td>\n",
       "      <td>13.87</td>\n",
       "      <td>17.42</td>\n",
       "      <td>3393</td>\n",
       "      <td>2574</td>\n",
       "      <td>819</td>\n",
       "      <td>297738</td>\n",
       "    </tr>\n",
       "    <tr>\n",
       "      <th>19</th>\n",
       "      <td>2001</td>\n",
       "      <td>14.10</td>\n",
       "      <td>12.45</td>\n",
       "      <td>16.00</td>\n",
       "      <td>3189</td>\n",
       "      <td>2430</td>\n",
       "      <td>759</td>\n",
       "      <td>318108</td>\n",
       "    </tr>\n",
       "    <tr>\n",
       "      <th>18</th>\n",
       "      <td>2002</td>\n",
       "      <td>15.26</td>\n",
       "      <td>13.72</td>\n",
       "      <td>17.02</td>\n",
       "      <td>3371</td>\n",
       "      <td>2554</td>\n",
       "      <td>817</td>\n",
       "      <td>334567</td>\n",
       "    </tr>\n",
       "    <tr>\n",
       "      <th>17</th>\n",
       "      <td>2003</td>\n",
       "      <td>17.23</td>\n",
       "      <td>15.66</td>\n",
       "      <td>19.03</td>\n",
       "      <td>3478</td>\n",
       "      <td>2650</td>\n",
       "      <td>828</td>\n",
       "      <td>351521</td>\n",
       "    </tr>\n",
       "    <tr>\n",
       "      <th>16</th>\n",
       "      <td>2004</td>\n",
       "      <td>19.63</td>\n",
       "      <td>18.12</td>\n",
       "      <td>21.38</td>\n",
       "      <td>3507</td>\n",
       "      <td>2651</td>\n",
       "      <td>856</td>\n",
       "      <td>370145</td>\n",
       "    </tr>\n",
       "  </tbody>\n",
       "</table>\n",
       "</div>"
      ],
      "text/plain": [
       "    PERIODO  DESEMPLEO  DESEMPLEO HOMBRES  DESEMPLEO MUJERES  SUICIDIOS  \\\n",
       "20     2000      15.53              13.87              17.42       3393   \n",
       "19     2001      14.10              12.45              16.00       3189   \n",
       "18     2002      15.26              13.72              17.02       3371   \n",
       "17     2003      17.23              15.66              19.03       3478   \n",
       "16     2004      19.63              18.12              21.38       3507   \n",
       "\n",
       "    SUICIDIOS HOMBRES  SUICIDIOS MUJERES     PIB  \n",
       "20               2574                819  297738  \n",
       "19               2430                759  318108  \n",
       "18               2554                817  334567  \n",
       "17               2650                828  351521  \n",
       "16               2651                856  370145  "
      ]
     },
     "execution_count": 72,
     "metadata": {},
     "output_type": "execute_result"
    }
   ],
   "source": [
    "# DATAFRAME DE PERIODOS NACIONALES: SUICIDIOS NACIONALES, DESEMPLEO Y PIB\n",
    "df = pd.concat([PERIODO_SUICIDIOS, PERIODO_SUICIDIOSHOMBRES, PERIODO_SUICIDIOSMUJERES, PERIODO_DESEMPLEO, PERIODO_DESEMPLEOHOMBRES, PERIODO_DESEMPLEOMUJERES, PERIODO_PIB], axis=1)\n",
    "df = df.loc[:,~df.columns.duplicated()] # Eliminamos las columnas duplicadas y nos quedamos con una.\n",
    "df = df[['PERIODO', 'DESEMPLEO', 'DESEMPLEO HOMBRES', 'DESEMPLEO MUJERES', 'SUICIDIOS', 'SUICIDIOS HOMBRES', 'SUICIDIOS MUJERES', 'PIB']]\n",
    "df = df.sort_values('PERIODO',ascending=True)\n",
    "PERIODO_SUICIDIOSNACIONALES_DESEMPLEO_PIB = df\n",
    "PERIODO_SUICIDIOSNACIONALES_DESEMPLEO_PIB.head()"
   ]
  },
  {
   "cell_type": "markdown",
   "metadata": {},
   "source": [
    "----------------------------------"
   ]
  },
  {
   "cell_type": "markdown",
   "metadata": {},
   "source": [
    "### **CREACIÓN DE GRÁFICAS:**"
   ]
  },
  {
   "cell_type": "markdown",
   "metadata": {},
   "source": [
    "Pruebas para comprobar que se visualizan bien."
   ]
  },
  {
   "cell_type": "code",
   "execution_count": 73,
   "metadata": {},
   "outputs": [
    {
     "data": {
      "image/png": "[encoded data removed]",
      "text/plain": [
       "<Figure size 432x288 with 1 Axes>"
      ]
     },
     "metadata": {
      "needs_background": "light"
     },
     "output_type": "display_data"
    }
   ],
   "source": [
    "# TOTAL DE SUICIDIOS NACIONAL\n",
    "sns.lineplot(data = PERIODO_SUICIDIOS, x = \"PERIODO\", y = \"SUICIDIOS\", color = \"green\")\n",
    "plt.title(\"TOTAL DE SUICIDIOS\")\n",
    "plt.xlabel(\"PERIODO\")\n",
    "plt.ylabel(\"SUICIDIOS\")\n",
    "plt.show()"
   ]
  },
  {
   "cell_type": "code",
   "execution_count": 74,
   "metadata": {},
   "outputs": [
    {
     "data": {
      "image/png": "[encoded data removed]",
      "text/plain": [
       "<Figure size 432x288 with 1 Axes>"
      ]
     },
     "metadata": {
      "needs_background": "light"
     },
     "output_type": "display_data"
    }
   ],
   "source": [
    "# TOTAL DE DESEMPLO NACIONAL\n",
    "sns.lineplot(data = PERIODO_DESEMPLEO, x = \"PERIODO\", y = \"DESEMPLEO\", color = \"green\")\n",
    "plt.title(\"TOTAL DE DESEMPLEO\")\n",
    "plt.xlabel(\"PERIODO\")\n",
    "plt.ylabel(\"DESEMPLEO\")\n",
    "plt.show()"
   ]
  },
  {
   "cell_type": "code",
   "execution_count": 75,
   "metadata": {},
   "outputs": [
    {
     "data": {
      "image/png": "[encoded data removed]",
      "text/plain": [
       "<Figure size 432x288 with 1 Axes>"
      ]
     },
     "metadata": {
      "needs_background": "light"
     },
     "output_type": "display_data"
    }
   ],
   "source": [
    "# TOTAL PIB NACIONAL\n",
    "sns.lineplot(data = PERIODO_PIB, x = \"PERIODO\", y = \"PIB\", color = \"green\")\n",
    "plt.title(\"TOTAL DE PIB\")\n",
    "plt.xlabel(\"PERIODO\")\n",
    "plt.ylabel(\"PIB\")\n",
    "plt.show()"
   ]
  },
  {
   "cell_type": "markdown",
   "metadata": {},
   "source": [
    "--------"
   ]
  },
  {
   "cell_type": "markdown",
   "metadata": {},
   "source": [
    "### **GUARDAR LOS DATAFRAME:**"
   ]
  },
  {
   "cell_type": "markdown",
   "metadata": {},
   "source": [
    "Guardamos los dataframes en la carpeta /utils para poder trabar en POWER BI."
   ]
  },
  {
   "cell_type": "code",
   "execution_count": 76,
   "metadata": {},
   "outputs": [],
   "source": [
    "CA_PERIODO_SUICIDIOS.to_csv(r'./utils/CA_PERIODO_SUICIDIOS.csv', index=False)\n",
    "CA_PERIODO_SUICIDIOSHOMBRES.to_csv(r'./utils/CA_PERIODO_SUICIDIOSHOMBRES.csv', index=False)\n",
    "CA_PERIODO_SUICIDIOSMUJERES.to_csv(r'./utils/CA_PERIODO_SUICIDIOSMUJERES.csv', index=False)\n",
    "\n",
    "CA_PERIODO_DESEMPLEO.to_csv(r'./utils/CA_PERIODO_DESEMPLEO.csv', index=False)\n",
    "CA_PERIODO_DESEMPLEOHOMBRES.to_csv(r'./utils/CA_PERIODO_DESEMPLEOHOMBRES.csv', index=False)\n",
    "CA_PERIODO_DESEMPLEOMUJERES.to_csv(r'./utils/CA_PERIODO_DESEMPLEOMUJERES.csv', index=False)\n",
    "\n",
    "CA_PERIODO_PIB.to_csv(r'./utils/CA_PERIODO_PIB.csv', index=False)\n",
    "\n",
    "EDAD_PERIODO_SUICIDIOS.to_csv(r'./utils/EDAD_PERIODO_SUICIDIOS.csv', index=False)\n",
    "EDAD_PERIODO_SUICIDIOSHOMBRES.to_csv(r'./utils/EDAD_PERIODO_SUICIDIOSHOMBRES.csv', index=False)\n",
    "EDAD_PERIODO_SUICIDIOSMUJERES.to_csv(r'./utils/EDAD_PERIODO_SUICIDIOSMUJERES.csv', index=False)\n",
    "\n",
    "EDAD_PERIODO_DESEMPLEO.to_csv(r'./utils/EDAD_PERIODO_DESEMPLEO.csv', index=False)\n",
    "EDAD_PERIODO_DESEMPLEOHOMBRES.to_csv(r'./utils/EDAD_PERIODO_DESEMPLEOHOMBRES.csv', index=False)\n",
    "EDAD_PERIODO_DESEMPLEOMUJERES.to_csv(r'./utils/EDAD_PERIODO_DESEMPLEOMUJERES.csv', index=False)\n",
    "\n",
    "PERIODO_SUICIDIOS.to_csv(r'./utils/PERIODO_SUICIDIOS.csv', index=False)\n",
    "PERIODO_SUICIDIOSHOMBRES.to_csv(r'./utils/PERIODO_SUICIDIOSHOMBRES.csv', index=False)\n",
    "PERIODO_SUICIDIOSMUJERES.to_csv(r'./utils/PERIODO_SUICIDIOSMUJERES.csv', index=False)\n",
    "\n",
    "PERIODO_DESEMPLEO.to_csv(r'./utils/PERIODO_DESEMPLEO.csv', index=False)\n",
    "PERIODO_DESEMPLEOHOMBRES.to_csv(r'./utils/PERIODO_DESEMPLEOHOMBRES.csv', index=False)\n",
    "PERIODO_DESEMPLEOMUJERES.to_csv(r'./utils/PERIODO_DESEMPLEOMUJERES.csv', index=False)\n",
    "\n",
    "PERIODO_PIB.to_csv(r'./utils/PERIODO_PIB.csv', index=False)\n",
    "\n",
    "CA_PERIODO_SUICIDIOSCCAA_DESEMPLEO_PIB.to_csv(r'./utils/CA_PERIODO_SUICIDIOSCCAA_DESEMPLEO_PIB.csv', index=False)\n",
    "PERIODO_SUICIDIOSNACIONALES_DESEMPLEO_PIB.to_csv(r'./utils/PERIODO_SUICIDIOSNACIONALES_DESEMPLEO_PIB.csv', index=False)"
   ]
  },
  {
   "cell_type": "markdown",
   "metadata": {},
   "source": [
    "---------------"
   ]
  },
  {
   "cell_type": "markdown",
   "metadata": {},
   "source": [
    "### **GRACIAS:**\n",
    ">Natalia Fernández García\n",
    "\n",
    ">Bootcamp: Data Science en The Bridge\n",
    "\n",
    ">17/01/2022"
   ]
  }
 ],
 "metadata": {
  "interpreter": {
   "hash": "b3ba2566441a7c06988d0923437866b63cedc61552a5af99d1f4fb67d367b25f"
  },
  "kernelspec": {
   "display_name": "Python 3.8.8 64-bit ('base': conda)",
   "language": "python",
   "name": "python3"
  },
  "language_info": {
   "codemirror_mode": {
    "name": "ipython",
    "version": 3
   },
   "file_extension": ".py",
   "mimetype": "text/x-python",
   "name": "python",
   "nbconvert_exporter": "python",
   "pygments_lexer": "ipython3",
   "version": "3.8.8"
  },
  "orig_nbformat": 4
 },
 "nbformat": 4,
 "nbformat_minor": 2
}
